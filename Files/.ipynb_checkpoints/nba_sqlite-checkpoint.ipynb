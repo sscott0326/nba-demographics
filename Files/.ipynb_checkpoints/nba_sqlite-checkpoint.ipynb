{
 "cells": [
  {
   "cell_type": "code",
   "execution_count": 1,
   "metadata": {},
   "outputs": [],
   "source": [
    "!rm ../Resources/sqlite/nbaData.sqlite"
   ]
  },
  {
   "cell_type": "code",
   "execution_count": 2,
   "metadata": {},
   "outputs": [],
   "source": [
    "import pandas as pd\n",
    "from sqlalchemy import create_engine\n",
    "from sqlalchemy.ext.declarative import declarative_base\n",
    "from sqlalchemy import Column, Integer, String, Float"
   ]
  },
  {
   "cell_type": "code",
   "execution_count": 3,
   "metadata": {},
   "outputs": [],
   "source": [
    "# Create the connection engine\n",
    "engine = create_engine(\"sqlite:///../Resources/sqlite/nbaData.sqlite\")\n",
    "conn = engine.connect()\n",
    "Base = declarative_base()"
   ]
  },
  {
   "cell_type": "code",
   "execution_count": 5,
   "metadata": {},
   "outputs": [],
   "source": [
    "class Player(Base):\n",
    "    __tablename__ = \"Players\"\n",
    "    id = Column(Integer, primary_key=True)\n",
    "    name = Column(String(100))\n",
    "    birth_date = Column(String(10))\n",
    "    birth_city = Column(String(100))\n",
    "    birth_state = Column(String(100))\n",
    "    college = Column(String(100))\n",
    "    height = Column(Integer)\n",
    "    position = Column(String(10))\n",
    "    year_start = Column(Integer)\n",
    "    year_end = Column(Integer)\n",
    "    seasons_played = Column(Integer)\n",
    "    latitude = Column(\"Latitude (generated)\", Float)\n",
    "    longitude = Column(\"Longitde (generated)\", Float)"
   ]
  },
  {
   "cell_type": "code",
   "execution_count": 6,
   "metadata": {},
   "outputs": [],
   "source": [
    "class Race(Base):\n",
    "    __tablename__ = \"NBA_Race\"\n",
    "    id = Column(Integer, primary_key=True)\n",
    "    season = Column(String(9))\n",
    "    white = Column(Integer)\n",
    "    african_american = Column(Integer)\n",
    "    latino = Column(Integer)\n",
    "    asian = Column(Integer)\n",
    "    other = Column(Integer)\n",
    "    international = Column(Integer)\n",
    "    total = Column(Integer)"
   ]
  },
  {
   "cell_type": "code",
   "execution_count": 12,
   "metadata": {},
   "outputs": [],
   "source": [
    "class Counties(Base):\n",
    "    __tablename__ = \"us_players_counties\"\n",
    "    id = Column(Integer, primary_key=True)\n",
    "    birth_city = Column(\"Birth City\", String(100))\n",
    "    birth_state = Column(\"Birth State\", String(100))\n",
    "    year_start = Column(\"Year Start\", Integer)\n",
    "    latitude = Column(\"Latitude (generated)\", Float)\n",
    "    longitude = Column(\"Longitde (generated)\", Float)\n",
    "    birth_county = Column(\"Birth County\", String(100))"
   ]
  },
  {
   "cell_type": "code",
   "execution_count": 17,
   "metadata": {},
   "outputs": [],
   "source": [
    "class Poverty(Base):\n",
    "    __tablename__ = \"us_poverty\"\n",
    "    id = Column(Integer, primary_key=True)\n",
    "    state = Column(\"State\", String(100))\n",
    "    county = Column(\"County\", String(100))\n",
    "    year = Column(\"Year\", Integer)\n",
    "    poverty_rate = Column(\"Poverty Rate\", Float)"
   ]
  },
  {
   "cell_type": "code",
   "execution_count": 7,
   "metadata": {},
   "outputs": [],
   "source": [
    "#Base.metadata.create_all(conn)\n",
    "Base.metadata.drop_all(conn)"
   ]
  },
  {
   "cell_type": "code",
   "execution_count": 8,
   "metadata": {},
   "outputs": [],
   "source": [
    "all_players = pd.read_csv(\"../Resources/clean_data/All_players.csv\")"
   ]
  },
  {
   "cell_type": "code",
   "execution_count": 9,
   "metadata": {},
   "outputs": [],
   "source": [
    "all_players.to_sql(Player.__tablename__, conn)"
   ]
  },
  {
   "cell_type": "code",
   "execution_count": 10,
   "metadata": {},
   "outputs": [],
   "source": [
    "nba_race = pd.read_csv(\"../Resources/clean_data/nba_race.csv\")"
   ]
  },
  {
   "cell_type": "code",
   "execution_count": 11,
   "metadata": {},
   "outputs": [],
   "source": [
    "nba_race.to_sql(Race.__tablename__,conn)"
   ]
  },
  {
   "cell_type": "code",
   "execution_count": 14,
   "metadata": {},
   "outputs": [],
   "source": [
    "us_counties = pd.read_csv(\"../Resources/clean_data/US_players_counties.csv\")"
   ]
  },
  {
   "cell_type": "code",
   "execution_count": 15,
   "metadata": {},
   "outputs": [],
   "source": [
    "us_counties.to_sql(Counties.__tablename__,conn)"
   ]
  },
  {
   "cell_type": "code",
   "execution_count": 18,
   "metadata": {},
   "outputs": [],
   "source": [
    "poverty = pd.read_csv(\"../US_economy/US_poverty/poverty.csv\")"
   ]
  },
  {
   "cell_type": "code",
   "execution_count": 19,
   "metadata": {},
   "outputs": [],
   "source": [
    "poverty.to_sql(Poverty.__tablename__,conn)"
   ]
  },
  {
   "cell_type": "code",
   "execution_count": null,
   "metadata": {},
   "outputs": [],
   "source": []
  }
 ],
 "metadata": {
  "kernelspec": {
   "display_name": "Python 3",
   "language": "python",
   "name": "python3"
  },
  "language_info": {
   "codemirror_mode": {
    "name": "ipython",
    "version": 3
   },
   "file_extension": ".py",
   "mimetype": "text/x-python",
   "name": "python",
   "nbconvert_exporter": "python",
   "pygments_lexer": "ipython3",
   "version": "3.7.4"
  }
 },
 "nbformat": 4,
 "nbformat_minor": 2
}
